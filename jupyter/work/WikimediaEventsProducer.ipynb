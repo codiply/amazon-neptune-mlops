{
 "cells": [
  {
   "cell_type": "code",
   "execution_count": null,
   "id": "53f488b8-7c9d-43ef-ac17-e13ed76e18fa",
   "metadata": {},
   "outputs": [],
   "source": [
    "import json\n",
    "import boto3\n",
    "from sseclient import SSEClient as EventSource"
   ]
  },
  {
   "cell_type": "code",
   "execution_count": null,
   "id": "fce514a3-561a-44d1-9fd1-6bbd7979792c",
   "metadata": {},
   "outputs": [],
   "source": [
    "wikimedia_events_url = 'https://stream.wikimedia.org/v2/stream/recentchange'\n",
    "delivery_stream_name = 'nept-mlops-dev-wikimedia-events-delivery-stream'"
   ]
  },
  {
   "cell_type": "code",
   "execution_count": null,
   "id": "27f69605-a6fb-42db-8f10-8665fecdc2b8",
   "metadata": {},
   "outputs": [],
   "source": [
    "firehose_client = boto3.client('firehose')"
   ]
  },
  {
   "cell_type": "code",
   "execution_count": null,
   "id": "c5bf777d-1175-4fc6-b98b-4d6c5325f814",
   "metadata": {},
   "outputs": [],
   "source": [
    "for event in EventSource(wikimedia_events_url):\n",
    "    if event.event == 'message':\n",
    "        try:\n",
    "            data = json.loads(event.data)\n",
    "        except ValueError:\n",
    "            pass\n",
    "        else:\n",
    "            firehose_client.put_record(\n",
    "                DeliveryStreamName=delivery_stream_name, \n",
    "                Record={\n",
    "                    'Data': event.data.encode('utf-8')\n",
    "                })"
   ]
  },
  {
   "cell_type": "code",
   "execution_count": null,
   "id": "7e5220aa-e3d0-4634-bb88-31919b9167d9",
   "metadata": {},
   "outputs": [],
   "source": []
  }
 ],
 "metadata": {
  "kernelspec": {
   "display_name": "Python 3 (ipykernel)",
   "language": "python",
   "name": "python3"
  },
  "language_info": {
   "codemirror_mode": {
    "name": "ipython",
    "version": 3
   },
   "file_extension": ".py",
   "mimetype": "text/x-python",
   "name": "python",
   "nbconvert_exporter": "python",
   "pygments_lexer": "ipython3",
   "version": "3.9.6"
  }
 },
 "nbformat": 4,
 "nbformat_minor": 5
}
