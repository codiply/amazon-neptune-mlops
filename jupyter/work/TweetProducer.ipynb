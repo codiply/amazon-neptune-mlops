{
 "cells": [
  {
   "cell_type": "code",
   "execution_count": 41,
   "source": [
    "import json\n",
    "import boto3\n",
    "import tweepy"
   ],
   "outputs": [],
   "metadata": {}
  },
  {
   "cell_type": "code",
   "execution_count": 42,
   "source": [
    "ssm_client = boto3.client('ssm')\n",
    "firehose_client = boto3.client('firehose')"
   ],
   "outputs": [],
   "metadata": {}
  },
  {
   "cell_type": "code",
   "execution_count": 43,
   "source": [
    "consumer_key = ssm_client.get_parameter(\n",
    "    Name='/twitter-api/consumer-key',\n",
    "    WithDecryption=True\n",
    ")['Parameter']['Value']\n",
    "\n",
    "consumer_secret = ssm_client.get_parameter(\n",
    "    Name='/twitter-api/consumer-secret',\n",
    "    WithDecryption=True\n",
    ")['Parameter']['Value']"
   ],
   "outputs": [],
   "metadata": {}
  },
  {
   "cell_type": "code",
   "execution_count": 44,
   "source": [
    "access_token = ssm_client.get_parameter(\n",
    "    Name='/twitter-api/access-token',\n",
    "    WithDecryption=True\n",
    ")['Parameter']['Value']\n",
    "\n",
    "access_token_secret = ssm_client.get_parameter(\n",
    "    Name='/twitter-api/access-token-secret',\n",
    "    WithDecryption=True\n",
    ")['Parameter']['Value']"
   ],
   "outputs": [],
   "metadata": {}
  },
  {
   "cell_type": "code",
   "execution_count": 45,
   "source": [
    "delivery_stream_name = 'nept-mlops-dev-tweet-delivery-stream'"
   ],
   "outputs": [],
   "metadata": {}
  },
  {
   "cell_type": "code",
   "execution_count": 46,
   "source": [
    "auth = tweepy.OAuthHandler(consumer_key, consumer_secret)\n",
    "auth.set_access_token(access_token, access_token_secret)"
   ],
   "outputs": [],
   "metadata": {}
  },
  {
   "cell_type": "code",
   "execution_count": 50,
   "source": [
    "class TweetProducer(tweepy.StreamListener):\n",
    "    def __init__(self, firehose_client):\n",
    "        self.firehose_client = firehose_client\n",
    "\n",
    "    def on_data(self, data):\n",
    "        tweet = json.loads(data)\n",
    "        self.firehose_client.put_record(\n",
    "            DeliveryStreamName=delivery_stream_name, \n",
    "            Record={\n",
    "                'Data':json.dumps(tweet).encode('utf-8')\n",
    "            }\n",
    "        )\n",
    "        print(tweet)\n",
    "        return True\n",
    "    \n",
    "    def on_error(self, status):\n",
    "        print(\"Error: \" + str(status))"
   ],
   "outputs": [],
   "metadata": {}
  },
  {
   "cell_type": "code",
   "execution_count": null,
   "source": [
    "tweet_producer = TweetProducer(firehose_client)\n",
    "stream = tweepy.Stream(auth=auth, listener=tweet_producer)\n",
    "stream.filter(track=['#aws'])"
   ],
   "outputs": [],
   "metadata": {}
  }
 ],
 "metadata": {
  "kernelspec": {
   "display_name": "Python 3 (ipykernel)",
   "language": "python",
   "name": "python3"
  },
  "language_info": {
   "codemirror_mode": {
    "name": "ipython",
    "version": 3
   },
   "file_extension": ".py",
   "mimetype": "text/x-python",
   "name": "python",
   "nbconvert_exporter": "python",
   "pygments_lexer": "ipython3",
   "version": "3.9.6"
  }
 },
 "nbformat": 4,
 "nbformat_minor": 5
}