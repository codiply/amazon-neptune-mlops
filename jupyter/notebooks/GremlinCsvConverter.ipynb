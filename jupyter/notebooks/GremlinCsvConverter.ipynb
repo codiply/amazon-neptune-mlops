{
 "cells": [
  {
   "cell_type": "code",
   "execution_count": null,
   "id": "084e66aa-5194-457b-b802-e22d3ca73628",
   "metadata": {},
   "outputs": [],
   "source": [
    "import boto3\n",
    "import json\n",
    "from urllib.parse import unquote"
   ]
  },
  {
   "cell_type": "code",
   "execution_count": null,
   "id": "c6cfd1a4-eedc-452e-8dd6-b5fe8e00118d",
   "metadata": {},
   "outputs": [],
   "source": [
    "aws_region = ''\n",
    "aws_account_id = ''"
   ]
  },
  {
   "cell_type": "code",
   "execution_count": null,
   "id": "6ce9e0a3-15d5-4871-9c04-6075228e3451",
   "metadata": {},
   "outputs": [],
   "source": [
    "event = ''"
   ]
  },
  {
   "cell_type": "code",
   "execution_count": null,
   "id": "74c05307-80d4-4cea-9c6e-611ccc6ad809",
   "metadata": {},
   "outputs": [],
   "source": [
    "loader_queue_url = \"https://sqs.{}.amazonaws.com/{}/nept-mlops-dev-gremlin-csv-loader\".format(aws_region, aws_account_id)\n",
    "s3_bucket = \"nept-mlops-dev-{}\".format(aws_account_id)\n",
    "input_path = \"wikimedia-events/raw-events\"\n",
    "output_path = \"wikimedia-events/gremlin-csv\""
   ]
  },
  {
   "cell_type": "code",
   "execution_count": null,
   "id": "58970daa-3b7c-4569-b1a9-e9a2f18f6655",
   "metadata": {},
   "outputs": [],
   "source": [
    "s3_client = boto3.client('s3')\n",
    "sqs_client = boto3.client('sqs')"
   ]
  },
  {
   "cell_type": "code",
   "execution_count": null,
   "id": "52dbcbb9-38c2-4aef-935f-22d7c9881907",
   "metadata": {},
   "outputs": [],
   "source": [
    "keys = list(map(lambda x: unquote(x['s3']['object']['key']), event['Records']))\n",
    "keys = list(filter(lambda x: x.startswith(input_path), keys))"
   ]
  },
  {
   "cell_type": "code",
   "execution_count": null,
   "id": "5cad217b-5f43-42d8-9829-b1f085722e39",
   "metadata": {},
   "outputs": [],
   "source": [
    "key = keys[0]"
   ]
  },
  {
   "cell_type": "code",
   "execution_count": null,
   "id": "10927e95-792c-429a-937c-37a4b6680349",
   "metadata": {},
   "outputs": [],
   "source": [
    "class UserVertexConverter(object):\n",
    "    def header(self):\n",
    "        return \"~id, ~label\"\n",
    "    def convert(self, event):\n",
    "        if 'user' in event:\n",
    "            return \"\\\"user:{}\\\",user\".format(event['user'])\n",
    "        return None\n",
    "    \n",
    "class EdgeConverter(object):\n",
    "    def header(self):\n",
    "        return \"edge header 1\"\n",
    "    def convert(self, event):\n",
    "        return \"edge 1: {}\".format(line)\n",
    "\n",
    "class Converters(object):\n",
    "    user_vertex_converter = UserVertexConverter()\n",
    "    edge_converter = EdgeConverter()\n",
    "    \n",
    "    def to_vertexes(self):\n",
    "        return [('user', self.user_vertex_converter)]\n",
    "        \n",
    "    def to_edges(self):\n",
    "        return []"
   ]
  },
  {
   "cell_type": "code",
   "execution_count": null,
   "id": "58e14765-faa8-488a-8763-06b2824a9de3",
   "metadata": {},
   "outputs": [],
   "source": [
    "def process_content_with_converter(content_json, converter_type, converter_name, converter, original_key_suffix):\n",
    "    output_key = \"{}{}-{}-{}\".format(output_path, original_key_suffix, converter_type, converter_name)\n",
    "    converted_lines = [converter.header()]\n",
    "    for line in content_json:\n",
    "        converted = converter.convert(line)\n",
    "        if converted:\n",
    "            converted_lines.append(converted)\n",
    "    converted_content = \"\\n\".join(converted_lines)\n",
    "    print(converted_content)\n",
    "    s3_client.put_object(Body=converted_content.encode('utf-8'), Bucket=s3_bucket, Key=output_key)\n",
    "    return output_key"
   ]
  },
  {
   "cell_type": "code",
   "execution_count": null,
   "id": "b867bae9-2f0a-4a86-8e28-80f98a13c670",
   "metadata": {},
   "outputs": [],
   "source": [
    "def process_file(key):\n",
    "    original_key_suffix = key[len(input_path):-1]\n",
    "    content = s3_client.get_object(Bucket=s3_bucket, Key=key)['Body'].read().decode('utf-8')\n",
    "    content_json = map(lambda x: json.loads(x), content.splitlines())\n",
    "    vertex_keys = []\n",
    "    edge_keys = []\n",
    "    for (converter_name, converter) in Converters().to_vertexes():\n",
    "        output_key = process_content_with_converter(content_json, 'vertexes', converter_name, converter, original_key_suffix)\n",
    "        vertex_keys.append(output_key)\n",
    "    for (converter_name, converter) in Converters().to_edges():\n",
    "        output_key = process_content_with_converter(content_json, 'edges', converter_name, converter, original_key_suffix)\n",
    "        vertex_keys.append(output_key)\n",
    "        print(output_key)\n",
    "    loader_message = {\n",
    "        \"vertex_files\": list(map(lambda x: \"s3://{}/{}\".format(s3_bucket, x), vertex_keys)),\n",
    "        \"edge_files\": list(map(lambda x: \"s3://{}/{}\".format(s3_bucket, x), edge_keys))\n",
    "    }\n",
    "    sqs_client.send_message(\n",
    "        QueueUrl=loader_queue_url,\n",
    "        MessageBody=json.dumps(loader_message)\n",
    "    )"
   ]
  },
  {
   "cell_type": "code",
   "execution_count": null,
   "id": "0b33b027-c658-4c5a-8c13-70b492138b24",
   "metadata": {},
   "outputs": [],
   "source": [
    "process_file(key)"
   ]
  },
  {
   "cell_type": "code",
   "execution_count": null,
   "id": "0695414d-220f-4656-b612-6ec06a0768fc",
   "metadata": {},
   "outputs": [],
   "source": []
  }
 ],
 "metadata": {
  "kernelspec": {
   "display_name": "Python 3 (ipykernel)",
   "language": "python",
   "name": "python3"
  },
  "language_info": {
   "codemirror_mode": {
    "name": "ipython",
    "version": 3
   },
   "file_extension": ".py",
   "mimetype": "text/x-python",
   "name": "python",
   "nbconvert_exporter": "python",
   "pygments_lexer": "ipython3",
   "version": "3.9.6"
  }
 },
 "nbformat": 4,
 "nbformat_minor": 5
}
