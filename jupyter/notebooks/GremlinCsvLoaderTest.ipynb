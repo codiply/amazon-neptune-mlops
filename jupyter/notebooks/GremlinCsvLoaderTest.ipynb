{
 "cells": [
  {
   "cell_type": "code",
   "execution_count": null,
   "id": "2aa8ff8d-fae9-429f-a1b0-1b3eb5cd3bab",
   "metadata": {},
   "outputs": [],
   "source": [
    "import json"
   ]
  },
  {
   "cell_type": "code",
   "execution_count": null,
   "id": "415cc68a-928e-4ddb-a8a1-5dd169e46269",
   "metadata": {},
   "outputs": [],
   "source": [
    "import boto3"
   ]
  },
  {
   "cell_type": "code",
   "execution_count": null,
   "id": "0168eb1f-3744-46e9-9e85-315f92dbda9b",
   "metadata": {},
   "outputs": [],
   "source": [
    "aws_region = ''\n",
    "aws_account_id = ''"
   ]
  },
  {
   "cell_type": "code",
   "execution_count": null,
   "id": "acee98be-c492-45ed-a88a-fde8d626356b",
   "metadata": {},
   "outputs": [],
   "source": [
    "sqs_queue_url = \"https://sqs.{}.amazonaws.com/{}/nept-mlops-dev-gremlin-csv-loader\".format(aws_region, aws_account_id)\n",
    "s3_bucket = \"nept-mlops-dev-{}\".format(aws_account_id)"
   ]
  },
  {
   "cell_type": "code",
   "execution_count": null,
   "id": "f4474427-8dfb-4233-9dc0-aabfa39ae891",
   "metadata": {},
   "outputs": [],
   "source": [
    "s3_client = boto3.client('s3')\n",
    "sqs_client = boto3.client('sqs')"
   ]
  },
  {
   "cell_type": "code",
   "execution_count": null,
   "id": "393fa419-e93c-49ae-85f7-5fb0acf5300c",
   "metadata": {},
   "outputs": [],
   "source": [
    "vertex_file_content = \"\"\"~id, name:String, age:Int, lang:String, interests:String[], ~label\n",
    "v1, \"marko\", 29, , \"sailing;graphs\", person\n",
    "v2, \"lop\", , \"java\", , software\n",
    "\"\"\"\n",
    "edge_file_content = \"\"\"~id, ~from, ~to, ~label, weight:Double\n",
    "e1, v1, v2, created, 0.4\n",
    "\"\"\""
   ]
  },
  {
   "cell_type": "code",
   "execution_count": null,
   "id": "645d07ee-5763-4dd6-a181-b1dfffffe9f7",
   "metadata": {},
   "outputs": [],
   "source": [
    "gremlin_csv_prefix = 'gremlin-csv'"
   ]
  },
  {
   "cell_type": "code",
   "execution_count": null,
   "id": "f34bc784-6be3-44ab-9cd7-1e9f15295f4a",
   "metadata": {},
   "outputs": [],
   "source": [
    "vertex_file_s3_key = \"{}/vertexes.csv\".format(gremlin_csv_prefix)\n",
    "edge_file_s3_key = \"{}/edges.csv\".format(gremlin_csv_prefix)"
   ]
  },
  {
   "cell_type": "code",
   "execution_count": null,
   "id": "b00af96c-cabd-4bf0-99a5-f5453fa77cc1",
   "metadata": {},
   "outputs": [],
   "source": [
    "s3_client.put_object(Body=vertex_file_content.encode('utf-8'), Bucket=s3_bucket, Key=vertex_file_s3_key)"
   ]
  },
  {
   "cell_type": "code",
   "execution_count": null,
   "id": "a3723aaf-181c-4cef-b730-cbe23bf18a34",
   "metadata": {},
   "outputs": [],
   "source": [
    "s3_client.put_object(Body=edge_file_content.encode('utf-8'), Bucket=s3_bucket, Key=edge_file_s3_key)"
   ]
  },
  {
   "cell_type": "code",
   "execution_count": null,
   "id": "2cb9da52-ff77-4038-bad0-6e01aceb16d5",
   "metadata": {},
   "outputs": [],
   "source": [
    "sqs_message_to_send = {\n",
    "    \"vertex_files\": [\"s3://{}/{}\".format(s3_bucket, vertex_file_s3_key)],\n",
    "    \"edge_files\": [\"s3://{}/{}\".format(s3_bucket, edge_file_s3_key)]\n",
    "}"
   ]
  },
  {
   "cell_type": "code",
   "execution_count": null,
   "id": "db96e9cd-9d94-40a8-b4ca-93a8110e23ce",
   "metadata": {},
   "outputs": [],
   "source": [
    "sqs_client.send_message(\n",
    "    QueueUrl=sqs_queue_url,\n",
    "    MessageBody=json.dumps(sqs_message_to_send)\n",
    ")"
   ]
  },
  {
   "cell_type": "code",
   "execution_count": null,
   "id": "a0fe4f27-21b5-45fe-8d99-f48d4a4b1cb7",
   "metadata": {},
   "outputs": [],
   "source": [
    "received_sqs_message = sqs_client.receive_message(\n",
    "    QueueUrl=sqs_queue_url,\n",
    "    MaxNumberOfMessages=1,\n",
    "    WaitTimeSeconds=20)['Messages'][0]"
   ]
  },
  {
   "cell_type": "code",
   "execution_count": null,
   "id": "af6947c9-65e1-41ba-854d-aeda9b49e37c",
   "metadata": {},
   "outputs": [],
   "source": [
    "receipt_handle = received_sqs_message['ReceiptHandle']"
   ]
  },
  {
   "cell_type": "code",
   "execution_count": null,
   "id": "a71d7b69-edfb-447e-be73-91d86510cf5a",
   "metadata": {},
   "outputs": [],
   "source": [
    "received_message_json = json.loads(received_sqs_message['Body'])"
   ]
  },
  {
   "cell_type": "code",
   "execution_count": null,
   "id": "cb787e0f-02d4-4064-8ca3-9a872726645c",
   "metadata": {},
   "outputs": [],
   "source": [
    "received_message_json"
   ]
  },
  {
   "cell_type": "code",
   "execution_count": null,
   "id": "00b823ef-9272-4126-a747-4ef277e2df4b",
   "metadata": {},
   "outputs": [],
   "source": [
    "sqs_client.delete_message(QueueUrl=sqs_queue_url, ReceiptHandle=receipt_handle)"
   ]
  },
  {
   "cell_type": "code",
   "execution_count": null,
   "id": "13648ad4-ebbe-4c86-8ffe-57e40e8288ba",
   "metadata": {},
   "outputs": [],
   "source": []
  }
 ],
 "metadata": {
  "kernelspec": {
   "display_name": "Python 3 (ipykernel)",
   "language": "python",
   "name": "python3"
  },
  "language_info": {
   "codemirror_mode": {
    "name": "ipython",
    "version": 3
   },
   "file_extension": ".py",
   "mimetype": "text/x-python",
   "name": "python",
   "nbconvert_exporter": "python",
   "pygments_lexer": "ipython3",
   "version": "3.9.6"
  }
 },
 "nbformat": 4,
 "nbformat_minor": 5
}
